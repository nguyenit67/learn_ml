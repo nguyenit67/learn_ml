{
 "cells": [
  {
   "cell_type": "code",
   "execution_count": 8,
   "metadata": {},
   "outputs": [
    {
     "data": {
      "text/plain": [
       "53.6"
      ]
     },
     "execution_count": 8,
     "metadata": {},
     "output_type": "execute_result"
    }
   ],
   "source": [
    "def sum_(a, begin, end):\n",
    "    if begin > end:\n",
    "        return 0\n",
    "\n",
    "    if begin == end:\n",
    "        return a[begin]\n",
    "\n",
    "    t = (begin + end) // 2\n",
    "    return sum_(a, begin, t) + sum_(a, t + 1, end)\n",
    "\n",
    "\n",
    "arr = [5, 43.2, 2, 3.4]\n",
    "sum_(arr, 0, len(arr) - 1)"
   ]
  }
 ],
 "metadata": {
  "kernelspec": {
   "display_name": "learn_ml",
   "language": "python",
   "name": "python3"
  },
  "language_info": {
   "codemirror_mode": {
    "name": "ipython",
    "version": 3
   },
   "file_extension": ".py",
   "mimetype": "text/x-python",
   "name": "python",
   "nbconvert_exporter": "python",
   "pygments_lexer": "ipython3",
   "version": "3.10.11"
  },
  "orig_nbformat": 4
 },
 "nbformat": 4,
 "nbformat_minor": 2
}
