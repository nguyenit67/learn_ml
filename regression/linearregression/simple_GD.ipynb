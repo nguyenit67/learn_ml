{
 "cells": [
  {
   "cell_type": "code",
   "execution_count": 25,
   "metadata": {},
   "outputs": [],
   "source": [
    "import numpy as np\n",
    "\n",
    "\n",
    "class LinearRegression:\n",
    "    def __init__(self, lr=0.01, num_iterations=50, seed=None) -> None:\n",
    "        self.lr = lr\n",
    "        self.num_iterations = num_iterations\n",
    "        self.weights = None\n",
    "        self.bias = None\n",
    "\n",
    "        np.random.seed(seed)  # set seed\n",
    "\n",
    "    def fit(self, X, y):\n",
    "        num_samples, num_features = X.shape\n",
    "\n",
    "        self.weights = np.random.rand(num_features)\n",
    "        self.bias = np.random.rand(1)\n",
    "\n",
    "        self.total_loss = 0\n",
    "\n",
    "        for _ in range(self.num_iterations):\n",
    "            y_pred = np.dot(X, self.weights) + self.bias\n",
    "\n",
    "            cost = 1 / (2 * num_samples) * np.sum((y - y_pred) ** 2)\n",
    "            self.total_loss += cost\n",
    "\n",
    "            dW = (1 / num_samples) * np.dot(X.T, y_pred - y)\n",
    "            db = (1 / num_samples) * np.sum(y_pred - y)\n",
    "\n",
    "            self.weights -= self.lr * dW\n",
    "            self.bias -= self.lr * db\n",
    "\n",
    "        self.total_loss /= self.num_iterations\n",
    "\n",
    "    def predict(self, X):\n",
    "        return np.dot(X, self.weights) + self.bias"
   ]
  },
  {
   "cell_type": "code",
   "execution_count": 21,
   "metadata": {},
   "outputs": [],
   "source": [
    "X_train = np.array([[1, 2, 3], [4, 5, 6], [7, 8, 9]])\n",
    "y_train = np.array([30, 40, 60])\n",
    "X_test = np.array([[2, 3, 4], [5, 6, 7]])"
   ]
  },
  {
   "cell_type": "code",
   "execution_count": 30,
   "metadata": {},
   "outputs": [
    {
     "name": "stdout",
     "output_type": "stream",
     "text": [
      "Predicted:  [33.33333333 48.33333333]\n",
      "Loss:  3.088160089274211\n"
     ]
    }
   ],
   "source": [
    "my_model = LinearRegression(num_iterations=10000, seed=9)\n",
    "my_model.fit(X_train, y_train)\n",
    "print(\"Predicted: \", my_model.predict(X_test))\n",
    "print(\"Loss: \", my_model.total_loss)"
   ]
  }
 ],
 "metadata": {
  "kernelspec": {
   "display_name": "learn_ml",
   "language": "python",
   "name": "python3"
  },
  "language_info": {
   "codemirror_mode": {
    "name": "ipython",
    "version": 3
   },
   "file_extension": ".py",
   "mimetype": "text/x-python",
   "name": "python",
   "nbconvert_exporter": "python",
   "pygments_lexer": "ipython3",
   "version": "3.10.11"
  },
  "orig_nbformat": 4
 },
 "nbformat": 4,
 "nbformat_minor": 2
}
